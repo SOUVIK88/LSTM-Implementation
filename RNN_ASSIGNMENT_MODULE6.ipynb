{
  "nbformat": 4,
  "nbformat_minor": 0,
  "metadata": {
    "colab": {
      "provenance": []
    },
    "kernelspec": {
      "name": "python3",
      "display_name": "Python 3"
    },
    "language_info": {
      "name": "python"
    }
  },
  "cells": [
    {
      "cell_type": "code",
      "execution_count": 26,
      "metadata": {
        "colab": {
          "base_uri": "https://localhost:8080/",
          "height": 455
        },
        "id": "QN4yNizT66b0",
        "outputId": "613f7a38-818c-4116-fe5c-54257bfa21ab"
      },
      "outputs": [
        {
          "output_type": "execute_result",
          "data": {
            "text/plain": [
              "            #Passengers\n",
              "Month                  \n",
              "1949-01-01          112\n",
              "1949-02-01          118\n",
              "1949-03-01          132\n",
              "1949-04-01          129\n",
              "1949-05-01          121\n",
              "...                 ...\n",
              "1960-08-01          606\n",
              "1960-09-01          508\n",
              "1960-10-01          461\n",
              "1960-11-01          390\n",
              "1960-12-01          432\n",
              "\n",
              "[144 rows x 1 columns]"
            ],
            "text/html": [
              "\n",
              "  <div id=\"df-37f77d2d-a696-4d6f-8743-05ef200f7576\" class=\"colab-df-container\">\n",
              "    <div>\n",
              "<style scoped>\n",
              "    .dataframe tbody tr th:only-of-type {\n",
              "        vertical-align: middle;\n",
              "    }\n",
              "\n",
              "    .dataframe tbody tr th {\n",
              "        vertical-align: top;\n",
              "    }\n",
              "\n",
              "    .dataframe thead th {\n",
              "        text-align: right;\n",
              "    }\n",
              "</style>\n",
              "<table border=\"1\" class=\"dataframe\">\n",
              "  <thead>\n",
              "    <tr style=\"text-align: right;\">\n",
              "      <th></th>\n",
              "      <th>#Passengers</th>\n",
              "    </tr>\n",
              "    <tr>\n",
              "      <th>Month</th>\n",
              "      <th></th>\n",
              "    </tr>\n",
              "  </thead>\n",
              "  <tbody>\n",
              "    <tr>\n",
              "      <th>1949-01-01</th>\n",
              "      <td>112</td>\n",
              "    </tr>\n",
              "    <tr>\n",
              "      <th>1949-02-01</th>\n",
              "      <td>118</td>\n",
              "    </tr>\n",
              "    <tr>\n",
              "      <th>1949-03-01</th>\n",
              "      <td>132</td>\n",
              "    </tr>\n",
              "    <tr>\n",
              "      <th>1949-04-01</th>\n",
              "      <td>129</td>\n",
              "    </tr>\n",
              "    <tr>\n",
              "      <th>1949-05-01</th>\n",
              "      <td>121</td>\n",
              "    </tr>\n",
              "    <tr>\n",
              "      <th>...</th>\n",
              "      <td>...</td>\n",
              "    </tr>\n",
              "    <tr>\n",
              "      <th>1960-08-01</th>\n",
              "      <td>606</td>\n",
              "    </tr>\n",
              "    <tr>\n",
              "      <th>1960-09-01</th>\n",
              "      <td>508</td>\n",
              "    </tr>\n",
              "    <tr>\n",
              "      <th>1960-10-01</th>\n",
              "      <td>461</td>\n",
              "    </tr>\n",
              "    <tr>\n",
              "      <th>1960-11-01</th>\n",
              "      <td>390</td>\n",
              "    </tr>\n",
              "    <tr>\n",
              "      <th>1960-12-01</th>\n",
              "      <td>432</td>\n",
              "    </tr>\n",
              "  </tbody>\n",
              "</table>\n",
              "<p>144 rows × 1 columns</p>\n",
              "</div>\n",
              "    <div class=\"colab-df-buttons\">\n",
              "\n",
              "  <div class=\"colab-df-container\">\n",
              "    <button class=\"colab-df-convert\" onclick=\"convertToInteractive('df-37f77d2d-a696-4d6f-8743-05ef200f7576')\"\n",
              "            title=\"Convert this dataframe to an interactive table.\"\n",
              "            style=\"display:none;\">\n",
              "\n",
              "  <svg xmlns=\"http://www.w3.org/2000/svg\" height=\"24px\" viewBox=\"0 -960 960 960\">\n",
              "    <path d=\"M120-120v-720h720v720H120Zm60-500h600v-160H180v160Zm220 220h160v-160H400v160Zm0 220h160v-160H400v160ZM180-400h160v-160H180v160Zm440 0h160v-160H620v160ZM180-180h160v-160H180v160Zm440 0h160v-160H620v160Z\"/>\n",
              "  </svg>\n",
              "    </button>\n",
              "\n",
              "  <style>\n",
              "    .colab-df-container {\n",
              "      display:flex;\n",
              "      gap: 12px;\n",
              "    }\n",
              "\n",
              "    .colab-df-convert {\n",
              "      background-color: #E8F0FE;\n",
              "      border: none;\n",
              "      border-radius: 50%;\n",
              "      cursor: pointer;\n",
              "      display: none;\n",
              "      fill: #1967D2;\n",
              "      height: 32px;\n",
              "      padding: 0 0 0 0;\n",
              "      width: 32px;\n",
              "    }\n",
              "\n",
              "    .colab-df-convert:hover {\n",
              "      background-color: #E2EBFA;\n",
              "      box-shadow: 0px 1px 2px rgba(60, 64, 67, 0.3), 0px 1px 3px 1px rgba(60, 64, 67, 0.15);\n",
              "      fill: #174EA6;\n",
              "    }\n",
              "\n",
              "    .colab-df-buttons div {\n",
              "      margin-bottom: 4px;\n",
              "    }\n",
              "\n",
              "    [theme=dark] .colab-df-convert {\n",
              "      background-color: #3B4455;\n",
              "      fill: #D2E3FC;\n",
              "    }\n",
              "\n",
              "    [theme=dark] .colab-df-convert:hover {\n",
              "      background-color: #434B5C;\n",
              "      box-shadow: 0px 1px 3px 1px rgba(0, 0, 0, 0.15);\n",
              "      filter: drop-shadow(0px 1px 2px rgba(0, 0, 0, 0.3));\n",
              "      fill: #FFFFFF;\n",
              "    }\n",
              "  </style>\n",
              "\n",
              "    <script>\n",
              "      const buttonEl =\n",
              "        document.querySelector('#df-37f77d2d-a696-4d6f-8743-05ef200f7576 button.colab-df-convert');\n",
              "      buttonEl.style.display =\n",
              "        google.colab.kernel.accessAllowed ? 'block' : 'none';\n",
              "\n",
              "      async function convertToInteractive(key) {\n",
              "        const element = document.querySelector('#df-37f77d2d-a696-4d6f-8743-05ef200f7576');\n",
              "        const dataTable =\n",
              "          await google.colab.kernel.invokeFunction('convertToInteractive',\n",
              "                                                    [key], {});\n",
              "        if (!dataTable) return;\n",
              "\n",
              "        const docLinkHtml = 'Like what you see? Visit the ' +\n",
              "          '<a target=\"_blank\" href=https://colab.research.google.com/notebooks/data_table.ipynb>data table notebook</a>'\n",
              "          + ' to learn more about interactive tables.';\n",
              "        element.innerHTML = '';\n",
              "        dataTable['output_type'] = 'display_data';\n",
              "        await google.colab.output.renderOutput(dataTable, element);\n",
              "        const docLink = document.createElement('div');\n",
              "        docLink.innerHTML = docLinkHtml;\n",
              "        element.appendChild(docLink);\n",
              "      }\n",
              "    </script>\n",
              "  </div>\n",
              "\n",
              "\n",
              "<div id=\"df-681b92e6-2324-4563-92c8-85cdbb5219f2\">\n",
              "  <button class=\"colab-df-quickchart\" onclick=\"quickchart('df-681b92e6-2324-4563-92c8-85cdbb5219f2')\"\n",
              "            title=\"Suggest charts.\"\n",
              "            style=\"display:none;\">\n",
              "\n",
              "<svg xmlns=\"http://www.w3.org/2000/svg\" height=\"24px\"viewBox=\"0 0 24 24\"\n",
              "     width=\"24px\">\n",
              "    <g>\n",
              "        <path d=\"M19 3H5c-1.1 0-2 .9-2 2v14c0 1.1.9 2 2 2h14c1.1 0 2-.9 2-2V5c0-1.1-.9-2-2-2zM9 17H7v-7h2v7zm4 0h-2V7h2v10zm4 0h-2v-4h2v4z\"/>\n",
              "    </g>\n",
              "</svg>\n",
              "  </button>\n",
              "\n",
              "<style>\n",
              "  .colab-df-quickchart {\n",
              "    background-color: #E8F0FE;\n",
              "    border: none;\n",
              "    border-radius: 50%;\n",
              "    cursor: pointer;\n",
              "    display: none;\n",
              "    fill: #1967D2;\n",
              "    height: 32px;\n",
              "    padding: 0 0 0 0;\n",
              "    width: 32px;\n",
              "  }\n",
              "\n",
              "  .colab-df-quickchart:hover {\n",
              "    background-color: #E2EBFA;\n",
              "    box-shadow: 0px 1px 2px rgba(60, 64, 67, 0.3), 0px 1px 3px 1px rgba(60, 64, 67, 0.15);\n",
              "    fill: #174EA6;\n",
              "  }\n",
              "\n",
              "  [theme=dark] .colab-df-quickchart {\n",
              "    background-color: #3B4455;\n",
              "    fill: #D2E3FC;\n",
              "  }\n",
              "\n",
              "  [theme=dark] .colab-df-quickchart:hover {\n",
              "    background-color: #434B5C;\n",
              "    box-shadow: 0px 1px 3px 1px rgba(0, 0, 0, 0.15);\n",
              "    filter: drop-shadow(0px 1px 2px rgba(0, 0, 0, 0.3));\n",
              "    fill: #FFFFFF;\n",
              "  }\n",
              "</style>\n",
              "\n",
              "  <script>\n",
              "    async function quickchart(key) {\n",
              "      const charts = await google.colab.kernel.invokeFunction(\n",
              "          'suggestCharts', [key], {});\n",
              "    }\n",
              "    (() => {\n",
              "      let quickchartButtonEl =\n",
              "        document.querySelector('#df-681b92e6-2324-4563-92c8-85cdbb5219f2 button');\n",
              "      quickchartButtonEl.style.display =\n",
              "        google.colab.kernel.accessAllowed ? 'block' : 'none';\n",
              "    })();\n",
              "  </script>\n",
              "</div>\n",
              "    </div>\n",
              "  </div>\n"
            ]
          },
          "metadata": {},
          "execution_count": 26
        }
      ],
      "source": [
        "import pandas as pd\n",
        "import matplotlib.pyplot as plt\n",
        "import numpy as np\n",
        "df=pd.read_csv(\"AirPassengers (3).csv\",index_col=['Month'],parse_dates=True)\n",
        "df"
      ]
    },
    {
      "cell_type": "code",
      "source": [
        "df.describe"
      ],
      "metadata": {
        "colab": {
          "base_uri": "https://localhost:8080/"
        },
        "id": "xRQirQpG8Aiy",
        "outputId": "3d9c6aea-d231-491a-9bc8-faf477465eb3"
      },
      "execution_count": 27,
      "outputs": [
        {
          "output_type": "execute_result",
          "data": {
            "text/plain": [
              "<bound method NDFrame.describe of             #Passengers\n",
              "Month                  \n",
              "1949-01-01          112\n",
              "1949-02-01          118\n",
              "1949-03-01          132\n",
              "1949-04-01          129\n",
              "1949-05-01          121\n",
              "...                 ...\n",
              "1960-08-01          606\n",
              "1960-09-01          508\n",
              "1960-10-01          461\n",
              "1960-11-01          390\n",
              "1960-12-01          432\n",
              "\n",
              "[144 rows x 1 columns]>"
            ]
          },
          "metadata": {},
          "execution_count": 27
        }
      ]
    },
    {
      "cell_type": "code",
      "source": [
        "plt.plot(df['#Passengers'])"
      ],
      "metadata": {
        "colab": {
          "base_uri": "https://localhost:8080/",
          "height": 447
        },
        "id": "_Dtd7lsoKNhy",
        "outputId": "3c5cddd4-cf91-426a-f2b7-e6190423fbe6"
      },
      "execution_count": 28,
      "outputs": [
        {
          "output_type": "execute_result",
          "data": {
            "text/plain": [
              "[<matplotlib.lines.Line2D at 0x79a6c1844be0>]"
            ]
          },
          "metadata": {},
          "execution_count": 28
        },
        {
          "output_type": "display_data",
          "data": {
            "text/plain": [
              "<Figure size 640x480 with 1 Axes>"
            ],
            "image/png": "[encoded data removed]"
          },
          "metadata": {}
        }
      ]
    },
    {
      "cell_type": "code",
      "source": [
        "from statsmodels.tsa.seasonal import seasonal_decompose\n",
        "results=seasonal_decompose(df['#Passengers'])\n",
        "results.plot();"
      ],
      "metadata": {
        "colab": {
          "base_uri": "https://localhost:8080/",
          "height": 487
        },
        "id": "_45l6q4QKW9K",
        "outputId": "c6956ca8-c4c4-4fe5-bd68-ad9a0fba2c99"
      },
      "execution_count": 30,
      "outputs": [
        {
          "output_type": "display_data",
          "data": {
            "text/plain": [
              "<Figure size 640x480 with 4 Axes>"
            ],
            "image/png": "[encoded data removed]"
          },
          "metadata": {}
        }
      ]
    },
    {
      "cell_type": "code",
      "source": [
        "df.shape"
      ],
      "metadata": {
        "colab": {
          "base_uri": "https://localhost:8080/"
        },
        "id": "P3Qpe-FTKp0O",
        "outputId": "dbfed332-da1c-46cf-9d41-fdb35b6478aa"
      },
      "execution_count": 31,
      "outputs": [
        {
          "output_type": "execute_result",
          "data": {
            "text/plain": [
              "(144, 1)"
            ]
          },
          "metadata": {},
          "execution_count": 31
        }
      ]
    },
    {
      "cell_type": "code",
      "source": [
        "train=df.iloc[:132]\n",
        "test=df.iloc[132:]"
      ],
      "metadata": {
        "id": "bo3V90o-KtrK"
      },
      "execution_count": 32,
      "outputs": []
    },
    {
      "cell_type": "code",
      "source": [
        "from sklearn.preprocessing import MinMaxScaler\n",
        "sc=MinMaxScaler()\n",
        "sc_train=sc.fit_transform(train)\n",
        "sc_test=sc.transform(test)\n"
      ],
      "metadata": {
        "id": "wsSMGo-0LBB8"
      },
      "execution_count": 33,
      "outputs": []
    },
    {
      "cell_type": "code",
      "source": [
        "sc_train.shape"
      ],
      "metadata": {
        "colab": {
          "base_uri": "https://localhost:8080/"
        },
        "id": "UMnqzZmKLhxq",
        "outputId": "e273820e-8ac3-405b-c732-28b27a5f1c69"
      },
      "execution_count": 34,
      "outputs": [
        {
          "output_type": "execute_result",
          "data": {
            "text/plain": [
              "(132, 1)"
            ]
          },
          "metadata": {},
          "execution_count": 34
        }
      ]
    },
    {
      "cell_type": "code",
      "source": [
        "from keras.preprocessing.sequence import TimeseriesGenerator\n",
        "n_input=12\n",
        "generator=TimeseriesGenerator(sc_train,sc_train,length=n_input,batch_size=1)"
      ],
      "metadata": {
        "id": "AAjWlcx4LU6z"
      },
      "execution_count": 37,
      "outputs": []
    },
    {
      "cell_type": "code",
      "source": [
        "generator[0]"
      ],
      "metadata": {
        "colab": {
          "base_uri": "https://localhost:8080/"
        },
        "id": "N0OR0sIVMH_T",
        "outputId": "176cf562-46e0-456a-9ed8-1b027483d5e3"
      },
      "execution_count": 39,
      "outputs": [
        {
          "output_type": "execute_result",
          "data": {
            "text/plain": [
              "(array([[[0.01758242],\n",
              "         [0.03076923],\n",
              "         [0.06153846],\n",
              "         [0.05494505],\n",
              "         [0.03736264],\n",
              "         [0.06813187],\n",
              "         [0.0967033 ],\n",
              "         [0.0967033 ],\n",
              "         [0.07032967],\n",
              "         [0.03296703],\n",
              "         [0.        ],\n",
              "         [0.03076923]]]),\n",
              " array([[0.02417582]]))"
            ]
          },
          "metadata": {},
          "execution_count": 39
        }
      ]
    },
    {
      "cell_type": "code",
      "source": [
        "from keras.models import Sequential\n",
        "from keras.layers import Dense\n",
        "from keras.layers import LSTM\n",
        "model=Sequential()\n",
        "model.add(LSTM(100,activation='relu',input_shape=(n_input,1)))\n",
        "model.add(Dense(1))\n",
        "model.compile(optimizer='adam',loss='mse')"
      ],
      "metadata": {
        "id": "LzfyhTWhMOqh"
      },
      "execution_count": 42,
      "outputs": []
    },
    {
      "cell_type": "code",
      "source": [
        "model.summary()"
      ],
      "metadata": {
        "colab": {
          "base_uri": "https://localhost:8080/"
        },
        "id": "Z-naHxa-NouT",
        "outputId": "1b4f1a85-427d-4c9c-8fda-346e999a95da"
      },
      "execution_count": 43,
      "outputs": [
        {
          "output_type": "stream",
          "name": "stdout",
          "text": [
            "Model: \"sequential_2\"\n",
            "_________________________________________________________________\n",
            " Layer (type)                Output Shape              Param #   \n",
            "=================================================================\n",
            " lstm_2 (LSTM)               (None, 100)               40800     \n",
            "                                                                 \n",
            " dense_1 (Dense)             (None, 1)                 101       \n",
            "                                                                 \n",
            "=================================================================\n",
            "Total params: 40,901\n",
            "Trainable params: 40,901\n",
            "Non-trainable params: 0\n",
            "_________________________________________________________________\n"
          ]
        }
      ]
    },
    {
      "cell_type": "code",
      "source": [
        "model.fit(generator,epochs=100)"
      ],
      "metadata": {
        "colab": {
          "base_uri": "https://localhost:8080/"
        },
        "id": "m9ZZTi9lNr0y",
        "outputId": "86a41781-e318-4add-cf7e-7e5b5ab753ab"
      },
      "execution_count": 59,
      "outputs": [
        {
          "output_type": "stream",
          "name": "stdout",
          "text": [
            "Epoch 1/100\n",
            "120/120 [==============================] - 1s 8ms/step - loss: 0.0015\n",
            "Epoch 2/100\n",
            "120/120 [==============================] - 1s 8ms/step - loss: 0.0015\n",
            "Epoch 3/100\n",
            "120/120 [==============================] - 1s 8ms/step - loss: 0.0022\n",
            "Epoch 4/100\n",
            "120/120 [==============================] - 1s 8ms/step - loss: 0.0015\n",
            "Epoch 5/100\n",
            "120/120 [==============================] - 1s 10ms/step - loss: 0.0016\n",
            "Epoch 6/100\n",
            "120/120 [==============================] - 1s 12ms/step - loss: 0.0012\n",
            "Epoch 7/100\n",
            "120/120 [==============================] - 1s 8ms/step - loss: 0.0014\n",
            "Epoch 8/100\n",
            "120/120 [==============================] - 1s 8ms/step - loss: 0.0014\n",
            "Epoch 9/100\n",
            "120/120 [==============================] - 1s 8ms/step - loss: 0.0015\n",
            "Epoch 10/100\n",
            "120/120 [==============================] - 1s 8ms/step - loss: 0.0020\n",
            "Epoch 11/100\n",
            "120/120 [==============================] - 1s 8ms/step - loss: 0.0017\n",
            "Epoch 12/100\n",
            "120/120 [==============================] - 1s 8ms/step - loss: 0.0015\n",
            "Epoch 13/100\n",
            "120/120 [==============================] - 1s 8ms/step - loss: 0.0018\n",
            "Epoch 14/100\n",
            "120/120 [==============================] - 1s 8ms/step - loss: 0.0015\n",
            "Epoch 15/100\n",
            "120/120 [==============================] - 1s 8ms/step - loss: 0.0016\n",
            "Epoch 16/100\n",
            "120/120 [==============================] - 1s 12ms/step - loss: 0.0014\n",
            "Epoch 17/100\n",
            "120/120 [==============================] - 1s 8ms/step - loss: 0.0014\n",
            "Epoch 18/100\n",
            "120/120 [==============================] - 1s 8ms/step - loss: 0.0013\n",
            "Epoch 19/100\n",
            "120/120 [==============================] - 1s 8ms/step - loss: 0.0016\n",
            "Epoch 20/100\n",
            "120/120 [==============================] - 1s 8ms/step - loss: 0.0016\n",
            "Epoch 21/100\n",
            "120/120 [==============================] - 1s 8ms/step - loss: 0.0015\n",
            "Epoch 22/100\n",
            "120/120 [==============================] - 1s 8ms/step - loss: 0.0013\n",
            "Epoch 23/100\n",
            "120/120 [==============================] - 1s 8ms/step - loss: 0.0016\n",
            "Epoch 24/100\n",
            "120/120 [==============================] - 1s 8ms/step - loss: 0.0016\n",
            "Epoch 25/100\n",
            "120/120 [==============================] - 2s 13ms/step - loss: 0.0020\n",
            "Epoch 26/100\n",
            "120/120 [==============================] - 1s 8ms/step - loss: 0.0014\n",
            "Epoch 27/100\n",
            "120/120 [==============================] - 1s 9ms/step - loss: 0.0015\n",
            "Epoch 28/100\n",
            "120/120 [==============================] - 1s 8ms/step - loss: 0.0012\n",
            "Epoch 29/100\n",
            "120/120 [==============================] - 1s 8ms/step - loss: 0.0016\n",
            "Epoch 30/100\n",
            "120/120 [==============================] - 1s 8ms/step - loss: 0.0015\n",
            "Epoch 31/100\n",
            "120/120 [==============================] - 1s 8ms/step - loss: 0.0013\n",
            "Epoch 32/100\n",
            "120/120 [==============================] - 1s 8ms/step - loss: 0.0014\n",
            "Epoch 33/100\n",
            "120/120 [==============================] - 1s 8ms/step - loss: 0.0013\n",
            "Epoch 34/100\n",
            "120/120 [==============================] - 2s 13ms/step - loss: 0.0020\n",
            "Epoch 35/100\n",
            "120/120 [==============================] - 1s 8ms/step - loss: 0.0014\n",
            "Epoch 36/100\n",
            "120/120 [==============================] - 1s 9ms/step - loss: 0.0014\n",
            "Epoch 37/100\n",
            "120/120 [==============================] - 1s 8ms/step - loss: 0.0013\n",
            "Epoch 38/100\n",
            "120/120 [==============================] - 1s 8ms/step - loss: 0.0013\n",
            "Epoch 39/100\n",
            "120/120 [==============================] - 1s 8ms/step - loss: 0.0013\n",
            "Epoch 40/100\n",
            "120/120 [==============================] - 1s 8ms/step - loss: 0.0019\n",
            "Epoch 41/100\n",
            "120/120 [==============================] - 1s 8ms/step - loss: 0.0012\n",
            "Epoch 42/100\n",
            "120/120 [==============================] - 1s 8ms/step - loss: 0.0014\n",
            "Epoch 43/100\n",
            "120/120 [==============================] - 1s 10ms/step - loss: 0.0017\n",
            "Epoch 44/100\n",
            "120/120 [==============================] - 1s 12ms/step - loss: 0.0017\n",
            "Epoch 45/100\n",
            "120/120 [==============================] - 1s 9ms/step - loss: 0.0015\n",
            "Epoch 46/100\n",
            "120/120 [==============================] - 1s 8ms/step - loss: 0.0013\n",
            "Epoch 47/100\n",
            "120/120 [==============================] - 1s 8ms/step - loss: 0.0016\n",
            "Epoch 48/100\n",
            "120/120 [==============================] - 1s 8ms/step - loss: 0.0012\n",
            "Epoch 49/100\n",
            "120/120 [==============================] - 1s 9ms/step - loss: 0.0014\n",
            "Epoch 50/100\n",
            "120/120 [==============================] - 1s 8ms/step - loss: 0.0013\n",
            "Epoch 51/100\n",
            "120/120 [==============================] - 1s 9ms/step - loss: 0.0015\n",
            "Epoch 52/100\n",
            "120/120 [==============================] - 1s 11ms/step - loss: 0.0013\n",
            "Epoch 53/100\n",
            "120/120 [==============================] - 1s 7ms/step - loss: 0.0011\n",
            "Epoch 54/100\n",
            "120/120 [==============================] - 1s 9ms/step - loss: 0.0017\n",
            "Epoch 55/100\n",
            "120/120 [==============================] - 1s 8ms/step - loss: 0.0013\n",
            "Epoch 56/100\n",
            "120/120 [==============================] - 1s 8ms/step - loss: 0.0012\n",
            "Epoch 57/100\n",
            "120/120 [==============================] - 1s 8ms/step - loss: 0.0011\n",
            "Epoch 58/100\n",
            "120/120 [==============================] - 1s 8ms/step - loss: 0.0011\n",
            "Epoch 59/100\n",
            "120/120 [==============================] - 1s 8ms/step - loss: 0.0014\n",
            "Epoch 60/100\n",
            "120/120 [==============================] - 1s 8ms/step - loss: 0.0015\n",
            "Epoch 61/100\n",
            "120/120 [==============================] - 1s 11ms/step - loss: 0.0013\n",
            "Epoch 62/100\n",
            "120/120 [==============================] - 1s 8ms/step - loss: 0.0014\n",
            "Epoch 63/100\n",
            "120/120 [==============================] - 1s 8ms/step - loss: 0.0012\n",
            "Epoch 64/100\n",
            "120/120 [==============================] - 1s 8ms/step - loss: 0.0011\n",
            "Epoch 65/100\n",
            "120/120 [==============================] - 1s 8ms/step - loss: 0.0013\n",
            "Epoch 66/100\n",
            "120/120 [==============================] - 1s 8ms/step - loss: 0.0014\n",
            "Epoch 67/100\n",
            "120/120 [==============================] - 1s 8ms/step - loss: 0.0012\n",
            "Epoch 68/100\n",
            "120/120 [==============================] - 1s 8ms/step - loss: 0.0012\n",
            "Epoch 69/100\n",
            "120/120 [==============================] - 1s 8ms/step - loss: 0.0013\n",
            "Epoch 70/100\n",
            "120/120 [==============================] - 1s 12ms/step - loss: 0.0011\n",
            "Epoch 71/100\n",
            "120/120 [==============================] - 1s 7ms/step - loss: 0.0015\n",
            "Epoch 72/100\n",
            "120/120 [==============================] - 1s 8ms/step - loss: 0.0014\n",
            "Epoch 73/100\n",
            "120/120 [==============================] - 1s 8ms/step - loss: 0.0014\n",
            "Epoch 74/100\n",
            "120/120 [==============================] - 1s 8ms/step - loss: 0.0015\n",
            "Epoch 75/100\n",
            "120/120 [==============================] - 1s 8ms/step - loss: 0.0013\n",
            "Epoch 76/100\n",
            "120/120 [==============================] - 1s 8ms/step - loss: 0.0012\n",
            "Epoch 77/100\n",
            "120/120 [==============================] - 1s 8ms/step - loss: 0.0015\n",
            "Epoch 78/100\n",
            "120/120 [==============================] - 1s 8ms/step - loss: 0.0013\n",
            "Epoch 79/100\n",
            "120/120 [==============================] - 1s 8ms/step - loss: 0.0014\n",
            "Epoch 80/100\n",
            "120/120 [==============================] - 1s 12ms/step - loss: 9.7077e-04\n",
            "Epoch 81/100\n",
            "120/120 [==============================] - 1s 8ms/step - loss: 0.0013\n",
            "Epoch 82/100\n",
            "120/120 [==============================] - 1s 8ms/step - loss: 0.0014\n",
            "Epoch 83/100\n",
            "120/120 [==============================] - 1s 8ms/step - loss: 0.0012\n",
            "Epoch 84/100\n",
            "120/120 [==============================] - 1s 9ms/step - loss: 0.0012\n",
            "Epoch 85/100\n",
            "120/120 [==============================] - 1s 7ms/step - loss: 0.0012\n",
            "Epoch 86/100\n",
            "120/120 [==============================] - 1s 8ms/step - loss: 0.0011\n",
            "Epoch 87/100\n",
            "120/120 [==============================] - 1s 8ms/step - loss: 9.4136e-04\n",
            "Epoch 88/100\n",
            "120/120 [==============================] - 1s 8ms/step - loss: 0.0011\n",
            "Epoch 89/100\n",
            "120/120 [==============================] - 1s 12ms/step - loss: 0.0014\n",
            "Epoch 90/100\n",
            "120/120 [==============================] - 1s 8ms/step - loss: 0.0011\n",
            "Epoch 91/100\n",
            "120/120 [==============================] - 1s 8ms/step - loss: 0.0012\n",
            "Epoch 92/100\n",
            "120/120 [==============================] - 1s 8ms/step - loss: 0.0011\n",
            "Epoch 93/100\n",
            "120/120 [==============================] - 1s 8ms/step - loss: 0.0011\n",
            "Epoch 94/100\n",
            "120/120 [==============================] - 1s 8ms/step - loss: 0.0012\n",
            "Epoch 95/100\n",
            "120/120 [==============================] - 1s 8ms/step - loss: 0.0011\n",
            "Epoch 96/100\n",
            "120/120 [==============================] - 1s 8ms/step - loss: 9.9683e-04\n",
            "Epoch 97/100\n",
            "120/120 [==============================] - 1s 7ms/step - loss: 0.0012\n",
            "Epoch 98/100\n",
            "120/120 [==============================] - 1s 12ms/step - loss: 0.0011\n",
            "Epoch 99/100\n",
            "120/120 [==============================] - 1s 8ms/step - loss: 0.0012\n",
            "Epoch 100/100\n",
            "120/120 [==============================] - 1s 10ms/step - loss: 0.0012\n"
          ]
        },
        {
          "output_type": "execute_result",
          "data": {
            "text/plain": [
              "<keras.callbacks.History at 0x79a65edf8be0>"
            ]
          },
          "metadata": {},
          "execution_count": 59
        }
      ]
    },
    {
      "cell_type": "code",
      "source": [
        "loss_per_epoch=model.history.history['loss']\n",
        "plt.plot(range(len(loss_per_epoch)),loss_per_epoch)"
      ],
      "metadata": {
        "colab": {
          "base_uri": "https://localhost:8080/",
          "height": 447
        },
        "id": "5u-XRt_vOEUT",
        "outputId": "059ab68a-07cb-48eb-dd01-88d5a4f8eda5"
      },
      "execution_count": 60,
      "outputs": [
        {
          "output_type": "execute_result",
          "data": {
            "text/plain": [
              "[<matplotlib.lines.Line2D at 0x79a64f832f20>]"
            ]
          },
          "metadata": {},
          "execution_count": 60
        },
        {
          "output_type": "display_data",
          "data": {
            "text/plain": [
              "<Figure size 640x480 with 1 Axes>"
            ],
            "image/png": "[encoded data removed]"
          },
          "metadata": {}
        }
      ]
    },
    {
      "cell_type": "code",
      "source": [
        "test_prediction=[]\n",
        "first_batch=sc_train[-n_input:]\n",
        "current_batch=first_batch.reshape((1,n_input,1))\n",
        "for i in range(len(test)):\n",
        "  current_pred=model.predict(current_batch)[0]\n",
        "  test_prediction.append(current_pred)\n",
        "  current_batch=np.append(current_batch[:,1:,:],[[current_pred]],axis=1)"
      ],
      "metadata": {
        "colab": {
          "base_uri": "https://localhost:8080/"
        },
        "id": "vZHBKUiAOWrK",
        "outputId": "fa5d5adc-167b-4496-ed1c-302aba22644f"
      },
      "execution_count": 61,
      "outputs": [
        {
          "output_type": "stream",
          "name": "stdout",
          "text": [
            "1/1 [==============================] - 0s 28ms/step\n",
            "1/1 [==============================] - 0s 22ms/step\n",
            "1/1 [==============================] - 0s 22ms/step\n",
            "1/1 [==============================] - 0s 24ms/step\n",
            "1/1 [==============================] - 0s 24ms/step\n",
            "1/1 [==============================] - 0s 23ms/step\n",
            "1/1 [==============================] - 0s 26ms/step\n",
            "1/1 [==============================] - 0s 28ms/step\n",
            "1/1 [==============================] - 0s 23ms/step\n",
            "1/1 [==============================] - 0s 25ms/step\n",
            "1/1 [==============================] - 0s 23ms/step\n",
            "1/1 [==============================] - 0s 22ms/step\n"
          ]
        }
      ]
    },
    {
      "cell_type": "code",
      "source": [
        "test_prediction"
      ],
      "metadata": {
        "colab": {
          "base_uri": "https://localhost:8080/"
        },
        "id": "Zm1rzOvfSVxq",
        "outputId": "a4442c16-8c0f-4f55-bd64-bb0f796f6ff8"
      },
      "execution_count": 62,
      "outputs": [
        {
          "output_type": "execute_result",
          "data": {
            "text/plain": [
              "[array([0.6051483], dtype=float32),\n",
              " array([0.57054377], dtype=float32),\n",
              " array([0.6690265], dtype=float32),\n",
              " array([0.68896437], dtype=float32),\n",
              " array([0.75022006], dtype=float32),\n",
              " array([0.9098939], dtype=float32),\n",
              " array([1.1106249], dtype=float32),\n",
              " array([1.1586894], dtype=float32),\n",
              " array([0.9223647], dtype=float32),\n",
              " array([0.73468316], dtype=float32),\n",
              " array([0.63267136], dtype=float32),\n",
              " array([0.6696075], dtype=float32)]"
            ]
          },
          "metadata": {},
          "execution_count": 62
        }
      ]
    },
    {
      "cell_type": "code",
      "source": [
        "test_prediction=sc.inverse_transform(test_prediction)\n",
        "test_prediction"
      ],
      "metadata": {
        "colab": {
          "base_uri": "https://localhost:8080/"
        },
        "id": "gukmBHE4SZWk",
        "outputId": "f6bc3d9a-9d7a-4cb1-878b-d5864fed35ee"
      },
      "execution_count": 63,
      "outputs": [
        {
          "output_type": "execute_result",
          "data": {
            "text/plain": [
              "array([[379.34248352],\n",
              "       [363.59741354],\n",
              "       [408.40705478],\n",
              "       [417.47878695],\n",
              "       [445.35012746],\n",
              "       [518.00171101],\n",
              "       [609.33433378],\n",
              "       [631.20366776],\n",
              "       [523.67594385],\n",
              "       [438.28083599],\n",
              "       [391.86546707],\n",
              "       [408.67142165]])"
            ]
          },
          "metadata": {},
          "execution_count": 63
        }
      ]
    },
    {
      "cell_type": "code",
      "source": [
        "test['Prediction']=test_prediction"
      ],
      "metadata": {
        "colab": {
          "base_uri": "https://localhost:8080/"
        },
        "id": "InZGvC4uS3lj",
        "outputId": "646ab1c9-e79b-4545-d5b6-1150cd55f43a"
      },
      "execution_count": 66,
      "outputs": [
        {
          "output_type": "stream",
          "name": "stderr",
          "text": [
            "<ipython-input-66-f0765bfc3ed2>:1: SettingWithCopyWarning: \n",
            "A value is trying to be set on a copy of a slice from a DataFrame.\n",
            "Try using .loc[row_indexer,col_indexer] = value instead\n",
            "\n",
            "See the caveats in the documentation: https://pandas.pydata.org/pandas-docs/stable/user_guide/indexing.html#returning-a-view-versus-a-copy\n",
            "  test['Prediction']=test_prediction\n"
          ]
        }
      ]
    },
    {
      "cell_type": "code",
      "source": [
        "test.head()"
      ],
      "metadata": {
        "colab": {
          "base_uri": "https://localhost:8080/",
          "height": 237
        },
        "id": "1O0XIVdhUfUs",
        "outputId": "bfc9adc1-f691-4175-e446-cda86fbb10cf"
      },
      "execution_count": 67,
      "outputs": [
        {
          "output_type": "execute_result",
          "data": {
            "text/plain": [
              "            #Passengers  Prediction\n",
              "Month                              \n",
              "1960-01-01          417  379.342484\n",
              "1960-02-01          391  363.597414\n",
              "1960-03-01          419  408.407055\n",
              "1960-04-01          461  417.478787\n",
              "1960-05-01          472  445.350127"
            ],
            "text/html": [
              "\n",
              "  <div id=\"df-fcd81c2f-1a83-4b31-a26a-1dd4614f32d8\" class=\"colab-df-container\">\n",
              "    <div>\n",
              "<style scoped>\n",
              "    .dataframe tbody tr th:only-of-type {\n",
              "        vertical-align: middle;\n",
              "    }\n",
              "\n",
              "    .dataframe tbody tr th {\n",
              "        vertical-align: top;\n",
              "    }\n",
              "\n",
              "    .dataframe thead th {\n",
              "        text-align: right;\n",
              "    }\n",
              "</style>\n",
              "<table border=\"1\" class=\"dataframe\">\n",
              "  <thead>\n",
              "    <tr style=\"text-align: right;\">\n",
              "      <th></th>\n",
              "      <th>#Passengers</th>\n",
              "      <th>Prediction</th>\n",
              "    </tr>\n",
              "    <tr>\n",
              "      <th>Month</th>\n",
              "      <th></th>\n",
              "      <th></th>\n",
              "    </tr>\n",
              "  </thead>\n",
              "  <tbody>\n",
              "    <tr>\n",
              "      <th>1960-01-01</th>\n",
              "      <td>417</td>\n",
              "      <td>379.342484</td>\n",
              "    </tr>\n",
              "    <tr>\n",
              "      <th>1960-02-01</th>\n",
              "      <td>391</td>\n",
              "      <td>363.597414</td>\n",
              "    </tr>\n",
              "    <tr>\n",
              "      <th>1960-03-01</th>\n",
              "      <td>419</td>\n",
              "      <td>408.407055</td>\n",
              "    </tr>\n",
              "    <tr>\n",
              "      <th>1960-04-01</th>\n",
              "      <td>461</td>\n",
              "      <td>417.478787</td>\n",
              "    </tr>\n",
              "    <tr>\n",
              "      <th>1960-05-01</th>\n",
              "      <td>472</td>\n",
              "      <td>445.350127</td>\n",
              "    </tr>\n",
              "  </tbody>\n",
              "</table>\n",
              "</div>\n",
              "    <div class=\"colab-df-buttons\">\n",
              "\n",
              "  <div class=\"colab-df-container\">\n",
              "    <button class=\"colab-df-convert\" onclick=\"convertToInteractive('df-fcd81c2f-1a83-4b31-a26a-1dd4614f32d8')\"\n",
              "            title=\"Convert this dataframe to an interactive table.\"\n",
              "            style=\"display:none;\">\n",
              "\n",
              "  <svg xmlns=\"http://www.w3.org/2000/svg\" height=\"24px\" viewBox=\"0 -960 960 960\">\n",
              "    <path d=\"M120-120v-720h720v720H120Zm60-500h600v-160H180v160Zm220 220h160v-160H400v160Zm0 220h160v-160H400v160ZM180-400h160v-160H180v160Zm440 0h160v-160H620v160ZM180-180h160v-160H180v160Zm440 0h160v-160H620v160Z\"/>\n",
              "  </svg>\n",
              "    </button>\n",
              "\n",
              "  <style>\n",
              "    .colab-df-container {\n",
              "      display:flex;\n",
              "      gap: 12px;\n",
              "    }\n",
              "\n",
              "    .colab-df-convert {\n",
              "      background-color: #E8F0FE;\n",
              "      border: none;\n",
              "      border-radius: 50%;\n",
              "      cursor: pointer;\n",
              "      display: none;\n",
              "      fill: #1967D2;\n",
              "      height: 32px;\n",
              "      padding: 0 0 0 0;\n",
              "      width: 32px;\n",
              "    }\n",
              "\n",
              "    .colab-df-convert:hover {\n",
              "      background-color: #E2EBFA;\n",
              "      box-shadow: 0px 1px 2px rgba(60, 64, 67, 0.3), 0px 1px 3px 1px rgba(60, 64, 67, 0.15);\n",
              "      fill: #174EA6;\n",
              "    }\n",
              "\n",
              "    .colab-df-buttons div {\n",
              "      margin-bottom: 4px;\n",
              "    }\n",
              "\n",
              "    [theme=dark] .colab-df-convert {\n",
              "      background-color: #3B4455;\n",
              "      fill: #D2E3FC;\n",
              "    }\n",
              "\n",
              "    [theme=dark] .colab-df-convert:hover {\n",
              "      background-color: #434B5C;\n",
              "      box-shadow: 0px 1px 3px 1px rgba(0, 0, 0, 0.15);\n",
              "      filter: drop-shadow(0px 1px 2px rgba(0, 0, 0, 0.3));\n",
              "      fill: #FFFFFF;\n",
              "    }\n",
              "  </style>\n",
              "\n",
              "    <script>\n",
              "      const buttonEl =\n",
              "        document.querySelector('#df-fcd81c2f-1a83-4b31-a26a-1dd4614f32d8 button.colab-df-convert');\n",
              "      buttonEl.style.display =\n",
              "        google.colab.kernel.accessAllowed ? 'block' : 'none';\n",
              "\n",
              "      async function convertToInteractive(key) {\n",
              "        const element = document.querySelector('#df-fcd81c2f-1a83-4b31-a26a-1dd4614f32d8');\n",
              "        const dataTable =\n",
              "          await google.colab.kernel.invokeFunction('convertToInteractive',\n",
              "                                                    [key], {});\n",
              "        if (!dataTable) return;\n",
              "\n",
              "        const docLinkHtml = 'Like what you see? Visit the ' +\n",
              "          '<a target=\"_blank\" href=https://colab.research.google.com/notebooks/data_table.ipynb>data table notebook</a>'\n",
              "          + ' to learn more about interactive tables.';\n",
              "        element.innerHTML = '';\n",
              "        dataTable['output_type'] = 'display_data';\n",
              "        await google.colab.output.renderOutput(dataTable, element);\n",
              "        const docLink = document.createElement('div');\n",
              "        docLink.innerHTML = docLinkHtml;\n",
              "        element.appendChild(docLink);\n",
              "      }\n",
              "    </script>\n",
              "  </div>\n",
              "\n",
              "\n",
              "<div id=\"df-d5828ae7-245c-453d-a9a2-5b4925a3a14e\">\n",
              "  <button class=\"colab-df-quickchart\" onclick=\"quickchart('df-d5828ae7-245c-453d-a9a2-5b4925a3a14e')\"\n",
              "            title=\"Suggest charts.\"\n",
              "            style=\"display:none;\">\n",
              "\n",
              "<svg xmlns=\"http://www.w3.org/2000/svg\" height=\"24px\"viewBox=\"0 0 24 24\"\n",
              "     width=\"24px\">\n",
              "    <g>\n",
              "        <path d=\"M19 3H5c-1.1 0-2 .9-2 2v14c0 1.1.9 2 2 2h14c1.1 0 2-.9 2-2V5c0-1.1-.9-2-2-2zM9 17H7v-7h2v7zm4 0h-2V7h2v10zm4 0h-2v-4h2v4z\"/>\n",
              "    </g>\n",
              "</svg>\n",
              "  </button>\n",
              "\n",
              "<style>\n",
              "  .colab-df-quickchart {\n",
              "    background-color: #E8F0FE;\n",
              "    border: none;\n",
              "    border-radius: 50%;\n",
              "    cursor: pointer;\n",
              "    display: none;\n",
              "    fill: #1967D2;\n",
              "    height: 32px;\n",
              "    padding: 0 0 0 0;\n",
              "    width: 32px;\n",
              "  }\n",
              "\n",
              "  .colab-df-quickchart:hover {\n",
              "    background-color: #E2EBFA;\n",
              "    box-shadow: 0px 1px 2px rgba(60, 64, 67, 0.3), 0px 1px 3px 1px rgba(60, 64, 67, 0.15);\n",
              "    fill: #174EA6;\n",
              "  }\n",
              "\n",
              "  [theme=dark] .colab-df-quickchart {\n",
              "    background-color: #3B4455;\n",
              "    fill: #D2E3FC;\n",
              "  }\n",
              "\n",
              "  [theme=dark] .colab-df-quickchart:hover {\n",
              "    background-color: #434B5C;\n",
              "    box-shadow: 0px 1px 3px 1px rgba(0, 0, 0, 0.15);\n",
              "    filter: drop-shadow(0px 1px 2px rgba(0, 0, 0, 0.3));\n",
              "    fill: #FFFFFF;\n",
              "  }\n",
              "</style>\n",
              "\n",
              "  <script>\n",
              "    async function quickchart(key) {\n",
              "      const charts = await google.colab.kernel.invokeFunction(\n",
              "          'suggestCharts', [key], {});\n",
              "    }\n",
              "    (() => {\n",
              "      let quickchartButtonEl =\n",
              "        document.querySelector('#df-d5828ae7-245c-453d-a9a2-5b4925a3a14e button');\n",
              "      quickchartButtonEl.style.display =\n",
              "        google.colab.kernel.accessAllowed ? 'block' : 'none';\n",
              "    })();\n",
              "  </script>\n",
              "</div>\n",
              "    </div>\n",
              "  </div>\n"
            ]
          },
          "metadata": {},
          "execution_count": 67
        }
      ]
    },
    {
      "cell_type": "code",
      "source": [
        "test.plot()"
      ],
      "metadata": {
        "colab": {
          "base_uri": "https://localhost:8080/",
          "height": 483
        },
        "id": "5yYnfhPCTMLE",
        "outputId": "016f607d-63ce-424b-83cb-f0f06c2a8fba"
      },
      "execution_count": 68,
      "outputs": [
        {
          "output_type": "execute_result",
          "data": {
            "text/plain": [
              "<Axes: xlabel='Month'>"
            ]
          },
          "metadata": {},
          "execution_count": 68
        },
        {
          "output_type": "display_data",
          "data": {
            "text/plain": [
              "<Figure size 640x480 with 1 Axes>"
            ],
            "image/png": "[encoded data removed]"
          },
          "metadata": {}
        }
      ]
    },
    {
      "cell_type": "code",
      "source": [
        "from sklearn.metrics import mean_squared_error\n",
        "from math import sqrt\n",
        "mse=mean_squared_error(test['#Passengers'],test['Prediction'])\n",
        "rmse=sqrt(mse)\n",
        "rmse"
      ],
      "metadata": {
        "colab": {
          "base_uri": "https://localhost:8080/"
        },
        "id": "Pl3eNEM_UIbj",
        "outputId": "d5165cd7-1e92-4ca5-9a4b-19d1d7089b0b"
      },
      "execution_count": 71,
      "outputs": [
        {
          "output_type": "execute_result",
          "data": {
            "text/plain": [
              "24.63009073467412"
            ]
          },
          "metadata": {},
          "execution_count": 71
        }
      ]
    },
    {
      "cell_type": "code",
      "source": [
        "from keras.models import Sequential\n",
        "from keras.layers import Dense\n",
        "from keras.layers import LSTM\n",
        "model1=Sequential()\n",
        "model1.add(LSTM(100,activation='relu',input_shape=(n_input,1)))\n",
        "model1.add(Dense(1))\n",
        "model1.compile(optimizer='sgd',loss='mse')"
      ],
      "metadata": {
        "id": "EQcwmNhRVDe7"
      },
      "execution_count": 72,
      "outputs": []
    },
    {
      "cell_type": "code",
      "source": [
        "model1.summary()"
      ],
      "metadata": {
        "colab": {
          "base_uri": "https://localhost:8080/"
        },
        "id": "_b3v0LfRXaIs",
        "outputId": "bb17f7f9-3038-4e9e-cd26-b3a553e73c38"
      },
      "execution_count": 73,
      "outputs": [
        {
          "output_type": "stream",
          "name": "stdout",
          "text": [
            "Model: \"sequential_4\"\n",
            "_________________________________________________________________\n",
            " Layer (type)                Output Shape              Param #   \n",
            "=================================================================\n",
            " lstm_4 (LSTM)               (None, 100)               40800     \n",
            "                                                                 \n",
            " dense_3 (Dense)             (None, 1)                 101       \n",
            "                                                                 \n",
            "=================================================================\n",
            "Total params: 40,901\n",
            "Trainable params: 40,901\n",
            "Non-trainable params: 0\n",
            "_________________________________________________________________\n"
          ]
        }
      ]
    },
    {
      "cell_type": "code",
      "source": [
        "model1.fit(generator,epochs=50)"
      ],
      "metadata": {
        "colab": {
          "base_uri": "https://localhost:8080/"
        },
        "id": "_iLXDrPHXe6-",
        "outputId": "0947c827-3af1-4797-80fe-c1c3d52d2328"
      },
      "execution_count": 75,
      "outputs": [
        {
          "output_type": "stream",
          "name": "stdout",
          "text": [
            "Epoch 1/50\n",
            "120/120 [==============================] - 1s 7ms/step - loss: 0.0342\n",
            "Epoch 2/50\n",
            "120/120 [==============================] - 1s 7ms/step - loss: 0.0291\n",
            "Epoch 3/50\n",
            "120/120 [==============================] - 1s 7ms/step - loss: 0.0254\n",
            "Epoch 4/50\n",
            "120/120 [==============================] - 1s 7ms/step - loss: 0.0221\n",
            "Epoch 5/50\n",
            "120/120 [==============================] - 1s 8ms/step - loss: 0.0193\n",
            "Epoch 6/50\n",
            "120/120 [==============================] - 1s 8ms/step - loss: 0.0165\n",
            "Epoch 7/50\n",
            "120/120 [==============================] - 1s 12ms/step - loss: 0.0146\n",
            "Epoch 8/50\n",
            "120/120 [==============================] - 1s 7ms/step - loss: 0.0131\n",
            "Epoch 9/50\n",
            "120/120 [==============================] - 1s 8ms/step - loss: 0.0118\n",
            "Epoch 10/50\n",
            "120/120 [==============================] - 1s 8ms/step - loss: 0.0110\n",
            "Epoch 11/50\n",
            "120/120 [==============================] - 1s 8ms/step - loss: 0.0104\n",
            "Epoch 12/50\n",
            "120/120 [==============================] - 1s 8ms/step - loss: 0.0102\n",
            "Epoch 13/50\n",
            "120/120 [==============================] - 1s 8ms/step - loss: 0.0098\n",
            "Epoch 14/50\n",
            "120/120 [==============================] - 1s 8ms/step - loss: 0.0099\n",
            "Epoch 15/50\n",
            "120/120 [==============================] - 1s 8ms/step - loss: 0.0097\n",
            "Epoch 16/50\n",
            "120/120 [==============================] - 1s 11ms/step - loss: 0.0098\n",
            "Epoch 17/50\n",
            "120/120 [==============================] - 1s 9ms/step - loss: 0.0098\n",
            "Epoch 18/50\n",
            "120/120 [==============================] - 1s 8ms/step - loss: 0.0095\n",
            "Epoch 19/50\n",
            "120/120 [==============================] - 1s 8ms/step - loss: 0.0098\n",
            "Epoch 20/50\n",
            "120/120 [==============================] - 1s 8ms/step - loss: 0.0097\n",
            "Epoch 21/50\n",
            "120/120 [==============================] - 1s 8ms/step - loss: 0.0093\n",
            "Epoch 22/50\n",
            "120/120 [==============================] - 1s 8ms/step - loss: 0.0096\n",
            "Epoch 23/50\n",
            "120/120 [==============================] - 1s 8ms/step - loss: 0.0097\n",
            "Epoch 24/50\n",
            "120/120 [==============================] - 1s 8ms/step - loss: 0.0094\n",
            "Epoch 25/50\n",
            "120/120 [==============================] - 1s 12ms/step - loss: 0.0097\n",
            "Epoch 26/50\n",
            "120/120 [==============================] - 1s 8ms/step - loss: 0.0094\n",
            "Epoch 27/50\n",
            "120/120 [==============================] - 1s 8ms/step - loss: 0.0095\n",
            "Epoch 28/50\n",
            "120/120 [==============================] - 1s 8ms/step - loss: 0.0095\n",
            "Epoch 29/50\n",
            "120/120 [==============================] - 1s 7ms/step - loss: 0.0097\n",
            "Epoch 30/50\n",
            "120/120 [==============================] - 1s 8ms/step - loss: 0.0096\n",
            "Epoch 31/50\n",
            "120/120 [==============================] - 1s 8ms/step - loss: 0.0097\n",
            "Epoch 32/50\n",
            "120/120 [==============================] - 1s 8ms/step - loss: 0.0096\n",
            "Epoch 33/50\n",
            "120/120 [==============================] - 1s 8ms/step - loss: 0.0096\n",
            "Epoch 34/50\n",
            "120/120 [==============================] - 2s 13ms/step - loss: 0.0096\n",
            "Epoch 35/50\n",
            "120/120 [==============================] - 1s 8ms/step - loss: 0.0096\n",
            "Epoch 36/50\n",
            "120/120 [==============================] - 1s 9ms/step - loss: 0.0096\n",
            "Epoch 37/50\n",
            "120/120 [==============================] - 1s 8ms/step - loss: 0.0096\n",
            "Epoch 38/50\n",
            "120/120 [==============================] - 1s 8ms/step - loss: 0.0094\n",
            "Epoch 39/50\n",
            "120/120 [==============================] - 1s 8ms/step - loss: 0.0093\n",
            "Epoch 40/50\n",
            "120/120 [==============================] - 1s 8ms/step - loss: 0.0093\n",
            "Epoch 41/50\n",
            "120/120 [==============================] - 1s 8ms/step - loss: 0.0097\n",
            "Epoch 42/50\n",
            "120/120 [==============================] - 1s 9ms/step - loss: 0.0096\n",
            "Epoch 43/50\n",
            "120/120 [==============================] - 1s 12ms/step - loss: 0.0095\n",
            "Epoch 44/50\n",
            "120/120 [==============================] - 1s 11ms/step - loss: 0.0096\n",
            "Epoch 45/50\n",
            "120/120 [==============================] - 1s 8ms/step - loss: 0.0096\n",
            "Epoch 46/50\n",
            "120/120 [==============================] - 1s 8ms/step - loss: 0.0094\n",
            "Epoch 47/50\n",
            "120/120 [==============================] - 1s 8ms/step - loss: 0.0095\n",
            "Epoch 48/50\n",
            "120/120 [==============================] - 1s 8ms/step - loss: 0.0096\n",
            "Epoch 49/50\n",
            "120/120 [==============================] - 1s 9ms/step - loss: 0.0095\n",
            "Epoch 50/50\n",
            "120/120 [==============================] - 1s 11ms/step - loss: 0.0094\n"
          ]
        },
        {
          "output_type": "execute_result",
          "data": {
            "text/plain": [
              "<keras.callbacks.History at 0x79a64f9f5300>"
            ]
          },
          "metadata": {},
          "execution_count": 75
        }
      ]
    },
    {
      "cell_type": "code",
      "source": [
        "loss_per_epoch1=model1.history.history['loss']\n",
        "plt.plot(range(len(loss_per_epoch1)),loss_per_epoch1)"
      ],
      "metadata": {
        "colab": {
          "base_uri": "https://localhost:8080/",
          "height": 447
        },
        "id": "nTq_HWj-ZCe9",
        "outputId": "36b5efb4-5bdb-4ae5-f6c5-9dd953eaa578"
      },
      "execution_count": 76,
      "outputs": [
        {
          "output_type": "execute_result",
          "data": {
            "text/plain": [
              "[<matplotlib.lines.Line2D at 0x79a64fde7b80>]"
            ]
          },
          "metadata": {},
          "execution_count": 76
        },
        {
          "output_type": "display_data",
          "data": {
            "text/plain": [
              "<Figure size 640x480 with 1 Axes>"
            ],
            "image/png": "[encoded data removed]"
          },
          "metadata": {}
        }
      ]
    },
    {
      "cell_type": "code",
      "source": [
        "test_prediction1=[]\n",
        "first_batch1=sc_train[-n_input:]\n",
        "current_batch1=first_batch1.reshape((1,n_input,1))\n",
        "for i in range(len(test)):\n",
        "  current_pred1=model1.predict(current_batch1)[0]\n",
        "  test_prediction1.append(current_pred1)\n",
        "  current_batch1=np.append(current_batch1[:,1:,:],[[current_pred1]],axis=1)"
      ],
      "metadata": {
        "colab": {
          "base_uri": "https://localhost:8080/"
        },
        "id": "09TfeZCkZn7U",
        "outputId": "6dea2cef-3d62-4800-9dae-8f3f6107c2a1"
      },
      "execution_count": 86,
      "outputs": [
        {
          "output_type": "stream",
          "name": "stdout",
          "text": [
            "1/1 [==============================] - 0s 181ms/step\n",
            "1/1 [==============================] - 0s 35ms/step\n",
            "1/1 [==============================] - 0s 37ms/step\n",
            "1/1 [==============================] - 0s 40ms/step\n",
            "1/1 [==============================] - 0s 37ms/step\n",
            "1/1 [==============================] - 0s 38ms/step\n",
            "1/1 [==============================] - 0s 33ms/step\n",
            "1/1 [==============================] - 0s 33ms/step\n",
            "1/1 [==============================] - 0s 33ms/step\n",
            "1/1 [==============================] - 0s 43ms/step\n",
            "1/1 [==============================] - 0s 35ms/step\n",
            "1/1 [==============================] - 0s 35ms/step\n"
          ]
        }
      ]
    },
    {
      "cell_type": "code",
      "source": [
        "test_prediction1"
      ],
      "metadata": {
        "colab": {
          "base_uri": "https://localhost:8080/"
        },
        "id": "EX0a929IcKcs",
        "outputId": "2fc2a724-e009-4274-e95e-20b8eb95a950"
      },
      "execution_count": 87,
      "outputs": [
        {
          "output_type": "execute_result",
          "data": {
            "text/plain": [
              "[array([0.73378897], dtype=float32),\n",
              " array([0.74063456], dtype=float32),\n",
              " array([0.7474667], dtype=float32),\n",
              " array([0.7520081], dtype=float32),\n",
              " array([0.7566867], dtype=float32),\n",
              " array([0.76043844], dtype=float32),\n",
              " array([0.7624559], dtype=float32),\n",
              " array([0.7621526], dtype=float32),\n",
              " array([0.76150835], dtype=float32),\n",
              " array([0.7634528], dtype=float32),\n",
              " array([0.7670108], dtype=float32),\n",
              " array([0.77194047], dtype=float32)]"
            ]
          },
          "metadata": {},
          "execution_count": 87
        }
      ]
    },
    {
      "cell_type": "code",
      "source": [
        "test_prediction1=sc.inverse_transform(test_prediction1)"
      ],
      "metadata": {
        "id": "8Z66Mw5PcNLU"
      },
      "execution_count": 88,
      "outputs": []
    },
    {
      "cell_type": "code",
      "source": [
        "test['Prediction1']=test_prediction1"
      ],
      "metadata": {
        "colab": {
          "base_uri": "https://localhost:8080/"
        },
        "id": "hol-_OQrcUTM",
        "outputId": "a0d31f30-0513-4e44-c1ae-9e62a4a867f1"
      },
      "execution_count": 89,
      "outputs": [
        {
          "output_type": "stream",
          "name": "stderr",
          "text": [
            "<ipython-input-89-6549e6d7bf41>:1: SettingWithCopyWarning: \n",
            "A value is trying to be set on a copy of a slice from a DataFrame.\n",
            "Try using .loc[row_indexer,col_indexer] = value instead\n",
            "\n",
            "See the caveats in the documentation: https://pandas.pydata.org/pandas-docs/stable/user_guide/indexing.html#returning-a-view-versus-a-copy\n",
            "  test['Prediction1']=test_prediction1\n"
          ]
        }
      ]
    },
    {
      "cell_type": "code",
      "source": [
        "test.head()"
      ],
      "metadata": {
        "colab": {
          "base_uri": "https://localhost:8080/",
          "height": 237
        },
        "id": "3uQpkkgFccQE",
        "outputId": "23af0319-4dcc-434c-c2f5-83b0086408ae"
      },
      "execution_count": 90,
      "outputs": [
        {
          "output_type": "execute_result",
          "data": {
            "text/plain": [
              "            #Passengers  Prediction  Prediction1\n",
              "Month                                           \n",
              "1960-01-01          417  379.342484   437.873980\n",
              "1960-02-01          391  363.597414   440.988725\n",
              "1960-03-01          419  408.407055   444.097341\n",
              "1960-04-01          461  417.478787   446.163677\n",
              "1960-05-01          472  445.350127   448.292443"
            ],
            "text/html": [
              "\n",
              "  <div id=\"df-6a129427-59ac-4dc2-8877-9d6fc0cbbb75\" class=\"colab-df-container\">\n",
              "    <div>\n",
              "<style scoped>\n",
              "    .dataframe tbody tr th:only-of-type {\n",
              "        vertical-align: middle;\n",
              "    }\n",
              "\n",
              "    .dataframe tbody tr th {\n",
              "        vertical-align: top;\n",
              "    }\n",
              "\n",
              "    .dataframe thead th {\n",
              "        text-align: right;\n",
              "    }\n",
              "</style>\n",
              "<table border=\"1\" class=\"dataframe\">\n",
              "  <thead>\n",
              "    <tr style=\"text-align: right;\">\n",
              "      <th></th>\n",
              "      <th>#Passengers</th>\n",
              "      <th>Prediction</th>\n",
              "      <th>Prediction1</th>\n",
              "    </tr>\n",
              "    <tr>\n",
              "      <th>Month</th>\n",
              "      <th></th>\n",
              "      <th></th>\n",
              "      <th></th>\n",
              "    </tr>\n",
              "  </thead>\n",
              "  <tbody>\n",
              "    <tr>\n",
              "      <th>1960-01-01</th>\n",
              "      <td>417</td>\n",
              "      <td>379.342484</td>\n",
              "      <td>437.873980</td>\n",
              "    </tr>\n",
              "    <tr>\n",
              "      <th>1960-02-01</th>\n",
              "      <td>391</td>\n",
              "      <td>363.597414</td>\n",
              "      <td>440.988725</td>\n",
              "    </tr>\n",
              "    <tr>\n",
              "      <th>1960-03-01</th>\n",
              "      <td>419</td>\n",
              "      <td>408.407055</td>\n",
              "      <td>444.097341</td>\n",
              "    </tr>\n",
              "    <tr>\n",
              "      <th>1960-04-01</th>\n",
              "      <td>461</td>\n",
              "      <td>417.478787</td>\n",
              "      <td>446.163677</td>\n",
              "    </tr>\n",
              "    <tr>\n",
              "      <th>1960-05-01</th>\n",
              "      <td>472</td>\n",
              "      <td>445.350127</td>\n",
              "      <td>448.292443</td>\n",
              "    </tr>\n",
              "  </tbody>\n",
              "</table>\n",
              "</div>\n",
              "    <div class=\"colab-df-buttons\">\n",
              "\n",
              "  <div class=\"colab-df-container\">\n",
              "    <button class=\"colab-df-convert\" onclick=\"convertToInteractive('df-6a129427-59ac-4dc2-8877-9d6fc0cbbb75')\"\n",
              "            title=\"Convert this dataframe to an interactive table.\"\n",
              "            style=\"display:none;\">\n",
              "\n",
              "  <svg xmlns=\"http://www.w3.org/2000/svg\" height=\"24px\" viewBox=\"0 -960 960 960\">\n",
              "    <path d=\"M120-120v-720h720v720H120Zm60-500h600v-160H180v160Zm220 220h160v-160H400v160Zm0 220h160v-160H400v160ZM180-400h160v-160H180v160Zm440 0h160v-160H620v160ZM180-180h160v-160H180v160Zm440 0h160v-160H620v160Z\"/>\n",
              "  </svg>\n",
              "    </button>\n",
              "\n",
              "  <style>\n",
              "    .colab-df-container {\n",
              "      display:flex;\n",
              "      gap: 12px;\n",
              "    }\n",
              "\n",
              "    .colab-df-convert {\n",
              "      background-color: #E8F0FE;\n",
              "      border: none;\n",
              "      border-radius: 50%;\n",
              "      cursor: pointer;\n",
              "      display: none;\n",
              "      fill: #1967D2;\n",
              "      height: 32px;\n",
              "      padding: 0 0 0 0;\n",
              "      width: 32px;\n",
              "    }\n",
              "\n",
              "    .colab-df-convert:hover {\n",
              "      background-color: #E2EBFA;\n",
              "      box-shadow: 0px 1px 2px rgba(60, 64, 67, 0.3), 0px 1px 3px 1px rgba(60, 64, 67, 0.15);\n",
              "      fill: #174EA6;\n",
              "    }\n",
              "\n",
              "    .colab-df-buttons div {\n",
              "      margin-bottom: 4px;\n",
              "    }\n",
              "\n",
              "    [theme=dark] .colab-df-convert {\n",
              "      background-color: #3B4455;\n",
              "      fill: #D2E3FC;\n",
              "    }\n",
              "\n",
              "    [theme=dark] .colab-df-convert:hover {\n",
              "      background-color: #434B5C;\n",
              "      box-shadow: 0px 1px 3px 1px rgba(0, 0, 0, 0.15);\n",
              "      filter: drop-shadow(0px 1px 2px rgba(0, 0, 0, 0.3));\n",
              "      fill: #FFFFFF;\n",
              "    }\n",
              "  </style>\n",
              "\n",
              "    <script>\n",
              "      const buttonEl =\n",
              "        document.querySelector('#df-6a129427-59ac-4dc2-8877-9d6fc0cbbb75 button.colab-df-convert');\n",
              "      buttonEl.style.display =\n",
              "        google.colab.kernel.accessAllowed ? 'block' : 'none';\n",
              "\n",
              "      async function convertToInteractive(key) {\n",
              "        const element = document.querySelector('#df-6a129427-59ac-4dc2-8877-9d6fc0cbbb75');\n",
              "        const dataTable =\n",
              "          await google.colab.kernel.invokeFunction('convertToInteractive',\n",
              "                                                    [key], {});\n",
              "        if (!dataTable) return;\n",
              "\n",
              "        const docLinkHtml = 'Like what you see? Visit the ' +\n",
              "          '<a target=\"_blank\" href=https://colab.research.google.com/notebooks/data_table.ipynb>data table notebook</a>'\n",
              "          + ' to learn more about interactive tables.';\n",
              "        element.innerHTML = '';\n",
              "        dataTable['output_type'] = 'display_data';\n",
              "        await google.colab.output.renderOutput(dataTable, element);\n",
              "        const docLink = document.createElement('div');\n",
              "        docLink.innerHTML = docLinkHtml;\n",
              "        element.appendChild(docLink);\n",
              "      }\n",
              "    </script>\n",
              "  </div>\n",
              "\n",
              "\n",
              "<div id=\"df-8f03b619-e8d9-4e29-92b9-51b031b6a179\">\n",
              "  <button class=\"colab-df-quickchart\" onclick=\"quickchart('df-8f03b619-e8d9-4e29-92b9-51b031b6a179')\"\n",
              "            title=\"Suggest charts.\"\n",
              "            style=\"display:none;\">\n",
              "\n",
              "<svg xmlns=\"http://www.w3.org/2000/svg\" height=\"24px\"viewBox=\"0 0 24 24\"\n",
              "     width=\"24px\">\n",
              "    <g>\n",
              "        <path d=\"M19 3H5c-1.1 0-2 .9-2 2v14c0 1.1.9 2 2 2h14c1.1 0 2-.9 2-2V5c0-1.1-.9-2-2-2zM9 17H7v-7h2v7zm4 0h-2V7h2v10zm4 0h-2v-4h2v4z\"/>\n",
              "    </g>\n",
              "</svg>\n",
              "  </button>\n",
              "\n",
              "<style>\n",
              "  .colab-df-quickchart {\n",
              "    background-color: #E8F0FE;\n",
              "    border: none;\n",
              "    border-radius: 50%;\n",
              "    cursor: pointer;\n",
              "    display: none;\n",
              "    fill: #1967D2;\n",
              "    height: 32px;\n",
              "    padding: 0 0 0 0;\n",
              "    width: 32px;\n",
              "  }\n",
              "\n",
              "  .colab-df-quickchart:hover {\n",
              "    background-color: #E2EBFA;\n",
              "    box-shadow: 0px 1px 2px rgba(60, 64, 67, 0.3), 0px 1px 3px 1px rgba(60, 64, 67, 0.15);\n",
              "    fill: #174EA6;\n",
              "  }\n",
              "\n",
              "  [theme=dark] .colab-df-quickchart {\n",
              "    background-color: #3B4455;\n",
              "    fill: #D2E3FC;\n",
              "  }\n",
              "\n",
              "  [theme=dark] .colab-df-quickchart:hover {\n",
              "    background-color: #434B5C;\n",
              "    box-shadow: 0px 1px 3px 1px rgba(0, 0, 0, 0.15);\n",
              "    filter: drop-shadow(0px 1px 2px rgba(0, 0, 0, 0.3));\n",
              "    fill: #FFFFFF;\n",
              "  }\n",
              "</style>\n",
              "\n",
              "  <script>\n",
              "    async function quickchart(key) {\n",
              "      const charts = await google.colab.kernel.invokeFunction(\n",
              "          'suggestCharts', [key], {});\n",
              "    }\n",
              "    (() => {\n",
              "      let quickchartButtonEl =\n",
              "        document.querySelector('#df-8f03b619-e8d9-4e29-92b9-51b031b6a179 button');\n",
              "      quickchartButtonEl.style.display =\n",
              "        google.colab.kernel.accessAllowed ? 'block' : 'none';\n",
              "    })();\n",
              "  </script>\n",
              "</div>\n",
              "    </div>\n",
              "  </div>\n"
            ]
          },
          "metadata": {},
          "execution_count": 90
        }
      ]
    },
    {
      "cell_type": "code",
      "source": [
        "test.plot()"
      ],
      "metadata": {
        "colab": {
          "base_uri": "https://localhost:8080/",
          "height": 483
        },
        "id": "hV6Tjqb7clTE",
        "outputId": "c0a0ad1d-e719-4ed3-886a-993ea99218bd"
      },
      "execution_count": 91,
      "outputs": [
        {
          "output_type": "execute_result",
          "data": {
            "text/plain": [
              "<Axes: xlabel='Month'>"
            ]
          },
          "metadata": {},
          "execution_count": 91
        },
        {
          "output_type": "display_data",
          "data": {
            "text/plain": [
              "<Figure size 640x480 with 1 Axes>"
            ],
            "image/png": "[encoded data removed]"
          },
          "metadata": {}
        }
      ]
    },
    {
      "cell_type": "code",
      "source": [
        "from sklearn.metrics import mean_squared_error\n",
        "from math import sqrt\n",
        "mse=mean_squared_error(test['#Passengers'],test['Prediction1'])\n",
        "rmse=sqrt(mse)\n",
        "rmse"
      ],
      "metadata": {
        "colab": {
          "base_uri": "https://localhost:8080/"
        },
        "id": "4byOnAqrc3wX",
        "outputId": "574f63a1-533a-4ba9-dc6a-3d87f2f6c745"
      },
      "execution_count": 92,
      "outputs": [
        {
          "output_type": "execute_result",
          "data": {
            "text/plain": [
              "77.91150659675142"
            ]
          },
          "metadata": {},
          "execution_count": 92
        }
      ]
    }
  ]
}